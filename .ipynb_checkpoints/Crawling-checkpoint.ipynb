{
 "cells": [
  {
   "cell_type": "markdown",
   "id": "2904a740-4dcd-418c-9632-1f13342c3af6",
   "metadata": {},
   "source": [
    "# 1. Git\n",
    "* 버전관리 시스템의 종류\n",
    "* 버전관리: 여러 파일을 하나의 버전으로 묶어 관리하는 것"
   ]
  },
  {
   "cell_type": "markdown",
   "id": "f2705348-42ec-4d4b-a41a-a741ccf2eee1",
   "metadata": {},
   "source": [
    "### 1-1. 버전관리 시스템의 종류\n",
    "1. 클라이언트 - 서버 모델: 하나의 중앙 서버로 여러 클라이언트들이 각자 필요한 것만 가져와서 작업을 하고 다시 중앙 서버로 보내서 통합하는 방식(SVN, CVS)\n",
    "2. 분산 모델: 하나의 중앙 서버가 존재하지만, 여러 클라이언트들은 각자의 컴퓨터에 저장소에 전체 사본을 가지고 작업하는 방식(Git)"
   ]
  },
  {
   "cell_type": "markdown",
   "id": "398d691e-d490-4d2a-bc96-aaaf45a4c298",
   "metadata": {},
   "source": [
    "### 1-2. Git의 장점\n",
    "* 동시에 작업하는 사람들과 소스코드를 주고받을 필요가 없음\n",
    "* 같은 파일을 여러명이 동시에 병렬 개발이 가능\n",
    "* 변동 과정을 체계적으로 관리할 수 있고, 언제든지 지난 시점의 버전으로 되돌릴 수 있음\n",
    "* 인터넷이 연결되지 않은 곳에서도 개발을 진행할 수 있고, 중앙 서버의 데이터가 유실되어도 다시 복구할 수 있음"
   ]
  },
  {
   "cell_type": "markdown",
   "id": "651d7d7a-0274-429e-8b42-7a9d32790c9d",
   "metadata": {},
   "source": [
    "### 1-3. Git 설치\n",
    "1. 구글에서 'git 설치' 검색\n",
    "2. 왼쪽 메뉴에서 downloads를 클릭(https://git-scm.com/downloads)\n",
    "3. 모니터 이미지에 있는 다운로드 버튼을 클릭\n",
    "4. 64-bit Git for Windows Setup. 클릭 후 다운로드 및 설치(기본 설정)\n",
    "5. 설치가 끝난 후 git bash를 실행 --> git --version 명령으로 버전을 확인"
   ]
  },
  {
   "cell_type": "markdown",
   "id": "9f3b9e1c-2923-4e17-a8d7-1e7415296189",
   "metadata": {},
   "source": [
    "# **2. Git 명령어**"
   ]
  },
  {
   "cell_type": "markdown",
   "id": "44a16268-a892-4f3c-a2dc-67b44cd82965",
   "metadata": {},
   "source": [
    "### 2-1. 프로젝트 디렉토리 내 '로컬 저장소'를 생성하기\n",
    "* 원하는 프로젝트 위치로 이동 후 'git init'를 실행"
   ]
  },
  {
   "cell_type": "markdown",
   "id": "28de3bfd-0eed-40a9-af82-ebc6bd0b77cc",
   "metadata": {},
   "source": [
    "!git init"
   ]
  },
  {
   "cell_type": "code",
   "execution_count": null,
   "id": "bec7fa69-4faf-411a-9815-1afad974898d",
   "metadata": {},
   "outputs": [],
   "source": []
  }
 ],
 "metadata": {
  "kernelspec": {
   "display_name": "Python 3 (ipykernel)",
   "language": "python",
   "name": "python3"
  },
  "language_info": {
   "codemirror_mode": {
    "name": "ipython",
    "version": 3
   },
   "file_extension": ".py",
   "mimetype": "text/x-python",
   "name": "python",
   "nbconvert_exporter": "python",
   "pygments_lexer": "ipython3",
   "version": "3.10.11"
  }
 },
 "nbformat": 4,
 "nbformat_minor": 5
}
