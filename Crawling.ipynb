{
 "cells": [
  {
   "cell_type": "markdown",
   "id": "2904a740-4dcd-418c-9632-1f13342c3af6",
   "metadata": {},
   "source": [
    "# 1. Git\n",
    "* 버전관리 시스템의 종류\n",
    "* 버전관리: 여러 파일을 하나의 버전으로 묶어 관리하는 것"
   ]
  },
  {
   "cell_type": "markdown",
   "id": "f2705348-42ec-4d4b-a41a-a741ccf2eee1",
   "metadata": {},
   "source": [
    "### 1-1. 버전관리 시스템의 종류\n",
    "1. 클라이언트 - 서버 모델: 하나의 중앙 서버로 여러 클라이언트들이 각자 필요한 것만 가져와서 작업을 하고 다시 중앙 서버로 보내서 통합하는 방식(SVN, CVS)\n",
    "2. 분산 모델: 하나의 중앙 서버가 존재하지만, 여러 클라이언트들은 각자의 컴퓨터에 저장소에 전체 사본을 가지고 작업하는 방식(Git)"
   ]
  },
  {
   "cell_type": "markdown",
   "id": "398d691e-d490-4d2a-bc96-aaaf45a4c298",
   "metadata": {},
   "source": [
    "### 1-2. Git의 장점\n",
    "* 동시에 작업하는 사람들과 소스코드를 주고받을 필요가 없음\n",
    "* 같은 파일을 여러명이 동시에 병렬 개발이 가능\n",
    "* 변동 과정을 체계적으로 관리할 수 있고, 언제든지 지난 시점의 버전으로 되돌릴 수 있음\n",
    "* 인터넷이 연결되지 않은 곳에서도 개발을 진행할 수 있고, 중앙 서버의 데이터가 유실되어도 다시 복구할 수 있음"
   ]
  },
  {
   "cell_type": "markdown",
   "id": "651d7d7a-0274-429e-8b42-7a9d32790c9d",
   "metadata": {},
   "source": [
    "### 1-3. Git 설치\n",
    "1. 구글에서 'git 설치' 검색\n",
    "2. 왼쪽 메뉴에서 downloads를 클릭(https://git-scm.com/downloads)\n",
    "3. 모니터 이미지에 있는 다운로드 버튼을 클릭\n",
    "4. 64-bit Git for Windows Setup. 클릭 후 다운로드 및 설치(기본 설정)\n",
    "5. 설치가 끝난 후 git bash를 실행 --> git --version 명령으로 버전을 확인"
   ]
  },
  {
   "cell_type": "markdown",
   "id": "9f3b9e1c-2923-4e17-a8d7-1e7415296189",
   "metadata": {},
   "source": [
    "# **2. Git 명령어**"
   ]
  },
  {
   "cell_type": "markdown",
   "id": "44a16268-a892-4f3c-a2dc-67b44cd82965",
   "metadata": {},
   "source": [
    "### 2-1. 프로젝트 디렉토리 내 '로컬 저장소'를 생성하기\n",
    "* 원하는 프로젝트 위치로 이동 후 'git init'를 실행"
   ]
  },
  {
   "cell_type": "code",
   "execution_count": 1,
   "id": "8023952a-8546-45d8-8d7f-19a1889640a3",
   "metadata": {},
   "outputs": [
    {
     "name": "stdout",
     "output_type": "stream",
     "text": [
      "Initialized empty Git repository in C:/Pycharm_Project1/Jupyter/.git/\n"
     ]
    }
   ],
   "source": [
    "!git init"
   ]
  },
  {
   "cell_type": "markdown",
   "id": "f4a73a06-b2bb-40ff-8f40-f20005e10ec5",
   "metadata": {},
   "source": [
    "### 2-2. 버전을 관리할 파일을 선택(stage에 올림)"
   ]
  },
  {
   "cell_type": "code",
   "execution_count": 2,
   "id": "86a2785c-4525-4bad-b30d-a93ae8335e6c",
   "metadata": {},
   "outputs": [
    {
     "name": "stderr",
     "output_type": "stream",
     "text": [
      "warning: in the working copy of 'Crawling.ipynb', LF will be replaced by CRLF the next time Git touches it\n"
     ]
    }
   ],
   "source": [
    "!git add Crawling.ipynb"
   ]
  },
  {
   "cell_type": "markdown",
   "id": "7d6b3135-90de-4268-a364-be074e6430c2",
   "metadata": {},
   "source": [
    "### 2-3. 하나의 버전으로 만들기\n",
    "* 로컬 시스템에서 파일을 생성/수정/삭제한 파일들을 선별하여 버전을 만드는 것\n",
    "* 파일이 변경될 때 변경 사항은 자동으로 저장되지 않음\n",
    "* git에게 새 커밋을 생성하여 변경 사항을 저장하도록 지시"
   ]
  },
  {
   "cell_type": "code",
   "execution_count": 7,
   "id": "18639cb2-88ed-4b31-99df-9ce62071f3c5",
   "metadata": {},
   "outputs": [
    {
     "name": "stdout",
     "output_type": "stream",
     "text": [
      "On branch master\n",
      "Changes not staged for commit:\n",
      "  (use \"git add <file>...\" to update what will be committed)\n",
      "  (use \"git restore <file>...\" to discard changes in working directory)\n",
      "\tmodified:   Crawling.ipynb\n",
      "\n",
      "Untracked files:\n",
      "  (use \"git add <file>...\" to include in what will be committed)\n",
      "\t.ipynb_checkpoints/\n",
      "\n",
      "no changes added to commit (use \"git add\" and/or \"git commit -a\")\n"
     ]
    }
   ],
   "source": [
    "!git commit -m \"첫 커밋\""
   ]
  },
  {
   "cell_type": "code",
   "execution_count": 5,
   "id": "67e3dc56-42e7-450d-bd38-b0fc9fc8b1a5",
   "metadata": {},
   "outputs": [],
   "source": [
    "# 위와 같은 에러가 발생한 경우\n",
    "!git config --global user.email \"rkdgml555@gmal.com\"\n",
    "!git config --global user.name \"조강희\""
   ]
  },
  {
   "cell_type": "code",
   "execution_count": 10,
   "id": "d51113a5-6474-4f27-8abc-1198bddd9fcd",
   "metadata": {},
   "outputs": [],
   "source": [
    "# 만약 이메일 또는 이름을 잘못 입력한 경우 등록과 동일하게 진행\n",
    "!git config --global user.email \"rkdgml555@gmail.com\"\n",
    "!git config --global user.name \"CHO\""
   ]
  },
  {
   "cell_type": "code",
   "execution_count": 11,
   "id": "3f3022b6-61b7-4808-a517-e46f22bc2209",
   "metadata": {},
   "outputs": [
    {
     "name": "stdout",
     "output_type": "stream",
     "text": [
      "On branch master\n",
      "Changes not staged for commit:\n",
      "  (use \"git add <file>...\" to update what will be committed)\n",
      "  (use \"git restore <file>...\" to discard changes in working directory)\n",
      "\tmodified:   Crawling.ipynb\n",
      "\n",
      "Untracked files:\n",
      "  (use \"git add <file>...\" to include in what will be committed)\n",
      "\t.ipynb_checkpoints/\n",
      "\n",
      "no changes added to commit (use \"git add\" and/or \"git commit -a\")\n"
     ]
    }
   ],
   "source": [
    "!git commit -m \"첫 커밋\""
   ]
  },
  {
   "cell_type": "markdown",
   "id": "9570165c-2bb4-4dfa-b06c-d2c9cd7a9412",
   "metadata": {},
   "source": [
    "### 2-4. 로그 확인하기"
   ]
  },
  {
   "cell_type": "code",
   "execution_count": 12,
   "id": "43f59019-e078-4316-b334-00fe09da8896",
   "metadata": {},
   "outputs": [
    {
     "name": "stdout",
     "output_type": "stream",
     "text": [
      "commit 5bdae1a4ea76727823854a10223f478e02636cba\n",
      "Author: CHO <rkdgml555@gmail.com>\n",
      "Date:   Mon Sep 30 21:23:59 2024 +0900\n",
      "\n",
      "    泥� 而ㅻ컠\n"
     ]
    }
   ],
   "source": [
    "!git log"
   ]
  },
  {
   "cell_type": "markdown",
   "id": "5de22d18-c6dd-42c9-8aff-072cb4b77a36",
   "metadata": {},
   "source": [
    "### 2-5. README.md 만들기\n",
    "* 깃허브에 업로드시 저장소 메인 설명글로 사용되는 파일\n",
    "* 마크다운으로 작성"
   ]
  },
  {
   "cell_type": "markdown",
   "id": "17cb7b70-8a21-4008-a2d7-3321191ab5a4",
   "metadata": {},
   "source": [
    "### 2-6. 여러 파일을 함께 선택하기\n",
    "* 현재 state에 있는 현재 디렉토리에 있는 변화된 모든 파일을 선택"
   ]
  },
  {
   "cell_type": "code",
   "execution_count": 14,
   "id": "c0bf9ca8-f3ef-46dd-ae34-fc09cc81f4d8",
   "metadata": {},
   "outputs": [
    {
     "name": "stderr",
     "output_type": "stream",
     "text": [
      "warning: in the working copy of 'Crawling.ipynb', LF will be replaced by CRLF the next time Git touches it\n",
      "warning: in the working copy of '.ipynb_checkpoints/Crawling-checkpoint.ipynb', LF will be replaced by CRLF the next time Git touches it\n"
     ]
    }
   ],
   "source": [
    "!git add ."
   ]
  },
  {
   "cell_type": "markdown",
   "id": "a7f75882-f824-45d7-9611-4cf711b087ed",
   "metadata": {},
   "source": [
    "### 2-7. 선택된 여러 파일을 커밋"
   ]
  },
  {
   "cell_type": "code",
   "execution_count": 15,
   "id": "1eed11af-79fc-42b0-a806-85e82d13de8c",
   "metadata": {},
   "outputs": [
    {
     "name": "stdout",
     "output_type": "stream",
     "text": [
      "[master 90df818] �쁽�옱 �뵒�젆�넗由ъ뿉 �엳�뒗 紐⑤뱺 蹂�寃쎈맂 �뙆�씪�쓣 而ㅻ컠\n",
      " 3 files changed, 288 insertions(+), 1 deletion(-)\n",
      " create mode 100644 .ipynb_checkpoints/Crawling-checkpoint.ipynb\n",
      " create mode 100644 README.md\n"
     ]
    }
   ],
   "source": [
    "!git commit -m \"현재 디렉토리에 있는 모든 변경된 파일을 커밋\""
   ]
  },
  {
   "cell_type": "markdown",
   "id": "d106d5c5-5d30-42f3-9a57-4f9f3988fe21",
   "metadata": {},
   "source": [
    "# **3. 깃허브(GitHub)**\n",
    "* git으로 버전 관리한 코드를 업로드할 수 있는 클라우드 서비스\n",
    "* 단순히 저장만 하는 것이 아니라 다른 유저들과 함께 코드를 공유하고 온라인으로 하나의 프로젝트를 개발할 수 있게 해줌\n",
    "* [공식 사이트](https://github.com/)"
   ]
  },
  {
   "cell_type": "markdown",
   "id": "61349995-f1da-47a9-b7d2-294d3de0f6ea",
   "metadata": {},
   "source": [
    "### 3-1. 로컬 저장소에서 github 저장소 주소를 설정"
   ]
  },
  {
   "cell_type": "code",
   "execution_count": 14,
   "id": "d13fca77-afd0-4a27-bc11-f5e88bcefbc1",
   "metadata": {},
   "outputs": [],
   "source": [
    "# https://github.com/KangheeCHO-git/Crawling.git\n",
    "!git remote add origin https://github.com/KangheeCHO-git/Crawling.git"
   ]
  },
  {
   "cell_type": "code",
   "execution_count": 15,
   "id": "f5c1dbf4-6009-4ce2-9d86-c0f4f1738727",
   "metadata": {},
   "outputs": [
    {
     "name": "stdout",
     "output_type": "stream",
     "text": [
      "origin\thttps://github.com/KangheeCHO-git/Crawling.git (fetch)\n",
      "origin\thttps://github.com/KangheeCHO-git/Crawling.git (push)\n"
     ]
    }
   ],
   "source": [
    "# 확인하기\n",
    "!git remote -v"
   ]
  },
  {
   "cell_type": "code",
   "execution_count": 12,
   "id": "2ac7cabc-feb2-4475-b89e-e35c8e8f2e6a",
   "metadata": {},
   "outputs": [],
   "source": [
    "# 삭제하기\n",
    "!git remote remove origin"
   ]
  },
  {
   "cell_type": "markdown",
   "id": "e14721b2-3343-45af-aa3e-0ff97ad0c2a4",
   "metadata": {},
   "source": [
    "### 3-2. 생성한 커밋(버전들)을 github로 전송하기"
   ]
  },
  {
   "cell_type": "code",
   "execution_count": 17,
   "id": "2572b598-7f99-4852-9acf-fb474945559c",
   "metadata": {},
   "outputs": [
    {
     "name": "stdout",
     "output_type": "stream",
     "text": [
      "branch 'master' set up to track 'origin/master'.\n"
     ]
    },
    {
     "name": "stderr",
     "output_type": "stream",
     "text": [
      "Everything up-to-date\n"
     ]
    }
   ],
   "source": [
    "# -u: 업스트림. 원격 저장소와 로컬 브랜치가 추적하는 브랜치를 의미. 기본적으로 origin/master 브랜치를 추적함\n",
    "!git push -u origin master"
   ]
  },
  {
   "cell_type": "markdown",
   "id": "d805ae8d-0f7d-44cf-b8e2-f3233ceea3a9",
   "metadata": {},
   "source": [
    "### 3-3. Git Repository Clone\n",
    "* Repository를 로컬 시스템에 복제하는 방법\n",
    "* 지금까지 모든 Repository의 히스토리를 포함"
   ]
  },
  {
   "cell_type": "code",
   "execution_count": 21,
   "id": "b08013ea-e9ec-46e1-964a-d5f04e390463",
   "metadata": {},
   "outputs": [
    {
     "name": "stderr",
     "output_type": "stream",
     "text": [
      "fatal: destination path 'Crawling' already exists and is not an empty directory.\n"
     ]
    }
   ],
   "source": [
    "# 폴더를 생성하고 폴더에 소스코드를 저장\n",
    "!git clone https://github.com/KangheeCHO-git/Crawling.git"
   ]
  },
  {
   "cell_type": "code",
   "execution_count": 20,
   "id": "e870d98a-d39f-4328-8a87-64e77fa20454",
   "metadata": {},
   "outputs": [
    {
     "name": "stderr",
     "output_type": "stream",
     "text": [
      "fatal: destination path '.' already exists and is not an empty directory.\n"
     ]
    }
   ],
   "source": [
    "# 폴더를 생성하지 않고 소스코드를 저장\n",
    "!git clone https://github.com/KangheeCHO-git/Crawling.git ."
   ]
  },
  {
   "cell_type": "markdown",
   "id": "a786c0ce-7161-49d3-8412-8be9352d7f0b",
   "metadata": {},
   "source": [
    "# **4. 다른 사람과의 협업**\n",
    "원하는 Repository에서 -> Settings -> 왼쪽 메뉴에 collaborators -> Manage access에서 Add people 클릭 -> 이름 또는 이메일을 추가 -> 초대받은 계정의 메일에서 수락"
   ]
  },
  {
   "cell_type": "markdown",
   "id": "ea025e99-bdcb-4d11-a53f-a721ae39dbe8",
   "metadata": {},
   "source": [
    "### 4-1. Git Repository Fork\n",
    "* 하나의 Repository를 다른 계정(또는 네임스페이스)으로 복사\n",
    "* Git 명령어가 아닌 Github에서 제공하는 명령어\n",
    "* 다른 사람의 github 계정 Repository에서 fork를 눌러 내 계정 Repository로 복사"
   ]
  },
  {
   "cell_type": "markdown",
   "id": "4e2f4af8-2b19-493c-a079-f50906f1e452",
   "metadata": {},
   "source": [
    "### 4-2. pull\n",
    "* 원격저장소에서 fetch 명령어로 가져온 후 merge까지 한 번에 실행하는 명령"
   ]
  },
  {
   "cell_type": "code",
   "execution_count": 23,
   "id": "2f365b30-6a62-4a72-91fa-3faf35673e68",
   "metadata": {},
   "outputs": [
    {
     "name": "stdout",
     "output_type": "stream",
     "text": [
      "Already up to date.\n"
     ]
    }
   ],
   "source": [
    "!git pull origin"
   ]
  },
  {
   "cell_type": "markdown",
   "id": "24d70f35-3e93-480b-ba57-3234d93fab8a",
   "metadata": {},
   "source": [
    "### 4-3. fetch\n",
    "* 원격저장소에서 소스를 가져오기(merge를 사용하지 않음)"
   ]
  },
  {
   "cell_type": "code",
   "execution_count": 24,
   "id": "844f7361-44f2-48dd-bd2c-f090ff26b074",
   "metadata": {},
   "outputs": [],
   "source": [
    "!git fetch origin"
   ]
  },
  {
   "cell_type": "markdown",
   "id": "aece82a9-ee87-42e7-b446-6b72d3c6877d",
   "metadata": {},
   "source": [
    "### 4-4. branch\n",
    "* 작업에 대한 가지\n",
    "* 큰 줄기(master)에 영향을 주지 않고 가지에서만 작업을 별도로 할 수 있음\n",
    "* 브랜치를 사용하여 저장소의 메인 분기에 영향을 미치지 않고 여러 기능이나 버그 수정을 동시에 수행할 수 있음"
   ]
  },
  {
   "cell_type": "code",
   "execution_count": 25,
   "id": "0f05a362-7643-4fbc-b0bc-b514513e1a54",
   "metadata": {},
   "outputs": [
    {
     "name": "stderr",
     "output_type": "stream",
     "text": [
      "Switched to a new branch 'dev'\n"
     ]
    }
   ],
   "source": [
    "!git checkout -b dev"
   ]
  },
  {
   "cell_type": "markdown",
   "id": "75e148fb-8040-4cb5-b1d2-b88f2fe2572c",
   "metadata": {},
   "source": [
    "# **5. .gitignore 파일**\n",
    "프로젝트에 원하지 않는 백업 파일이나 로그파일 혹은 보안상 문제가 있는 파일들을 git에서 제외시킬 수 있는 설정 파일"
   ]
  },
  {
   "cell_type": "code",
   "execution_count": null,
   "id": "af62ff10-0bbc-4581-8e96-ab77842b79c6",
   "metadata": {},
   "outputs": [],
   "source": [
    "!git commit -m \"gitignore 파일 적용 후 커밋\""
   ]
  }
 ],
 "metadata": {
  "kernelspec": {
   "display_name": "Python 3 (ipykernel)",
   "language": "python",
   "name": "python3"
  },
  "language_info": {
   "codemirror_mode": {
    "name": "ipython",
    "version": 3
   },
   "file_extension": ".py",
   "mimetype": "text/x-python",
   "name": "python",
   "nbconvert_exporter": "python",
   "pygments_lexer": "ipython3",
   "version": "3.10.11"
  }
 },
 "nbformat": 4,
 "nbformat_minor": 5
}
